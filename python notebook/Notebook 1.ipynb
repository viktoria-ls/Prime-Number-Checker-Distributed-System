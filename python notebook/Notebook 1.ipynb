{
 "cells": [
  {
   "cell_type": "code",
   "execution_count": 1,
   "metadata": {
    "cell_id": "e25b41319342429197a9658881549037",
    "deepnote_cell_type": "code",
    "deepnote_to_be_reexecuted": false,
    "execution_millis": 1027,
    "execution_start": 1709218101067,
    "source_hash": "e2709e75",
    "tags": []
   },
   "outputs": [
    {
     "name": "stdout",
     "output_type": "stream",
     "text": [
      "Distributed Computing\n",
      "Run 1    43181\n",
      "Run 2    43245\n",
      "Run 3    43249\n",
      "Run 4    43299\n",
      "Run 5    43148\n",
      "Name: 1, dtype: int64\n",
      "Single Machine Computing\n",
      "Run 1    134428\n",
      "Run 2    134393\n",
      "Run 3    134270\n",
      "Run 4    134798\n",
      "Run 5    134758\n",
      "Name: 1, dtype: int64\n",
      "t-statistic: -8.43e+02\n",
      "p-value: 4.41e-21\n",
      "There is a significant difference between distributed computing versus computing on a single machine on a single thread.\n"
     ]
    }
   ],
   "source": [
    "from scipy import stats\n",
    "import pandas as pd\n",
    "\n",
    "distributed_df = pd.read_csv(\"distributed.csv\")\n",
    "distributed_df.set_index('Threads', inplace=True)\n",
    "\n",
    "\n",
    "\n",
    "single_df = pd.read_csv(\"single.csv\")\n",
    "single_df.set_index('Threads', inplace=True)\n",
    "\n",
    "t_statistic, p_value = stats.ttest_ind(distributed_df.iloc[0], single_df.iloc[0])\n",
    "\n",
    "print(\"Distributed Computing\")\n",
    "print(distributed_df.iloc[0])\n",
    "\n",
    "print(\"Single Machine Computing\")\n",
    "print(single_df.iloc[0])\n",
    "\n",
    "print(\"t-statistic: \"  + '{:.2e}'.format(t_statistic))\n",
    "print(\"p-value: \" + '{:.2e}'.format(p_value))\n",
    "\n",
    "alpha = 0.05\n",
    "if p_value < alpha:\n",
    "    print(\"There is a significant difference between distributed computing versus computing on a single machine on a single thread.\")\n",
    "else:\n",
    "    print(\"There is no significant difference between distributed computing versus computing on a single machine on a single thread.\")"
   ]
  },
  {
   "cell_type": "code",
   "execution_count": 2,
   "metadata": {
    "cell_id": "aa67bdebadad4c0887eff618767a7cb9",
    "deepnote_cell_type": "code",
    "deepnote_to_be_reexecuted": false,
    "execution_millis": 84,
    "execution_start": 1709218102108,
    "source_hash": "98bc85eb"
   },
   "outputs": [
    {
     "name": "stdout",
     "output_type": "stream",
     "text": [
      "Distributed Computing\n",
      "Run 1    22794\n",
      "Run 2    22870\n",
      "Run 3    22865\n",
      "Run 4    22872\n",
      "Run 5    22680\n",
      "Name: 2, dtype: int64\n",
      "Single Machine Computing\n",
      "Run 1    85887\n",
      "Run 2    85507\n",
      "Run 3    85105\n",
      "Run 4    86194\n",
      "Run 5    85189\n",
      "Name: 2, dtype: int64\n",
      "t-statistic: -2.99e+02\n",
      "p-value: 1.76e-17\n",
      "There is a significant difference between distributed computing versus computing on a single machine on two threads.\n"
     ]
    }
   ],
   "source": [
    "t_statistic, p_value = stats.ttest_ind(distributed_df.iloc[1], single_df.iloc[1])\n",
    "\n",
    "print(\"Distributed Computing\")\n",
    "print(distributed_df.iloc[1])\n",
    "\n",
    "print(\"Single Machine Computing\")\n",
    "print(single_df.iloc[1])\n",
    "\n",
    "print(\"t-statistic: \"  + '{:.2e}'.format(t_statistic))\n",
    "print(\"p-value: \" + '{:.2e}'.format(p_value))\n",
    "\n",
    "alpha = 0.05\n",
    "if p_value < alpha:\n",
    "    print(\"There is a significant difference between distributed computing versus computing on a single machine on two threads.\")\n",
    "else:\n",
    "    print(\"There is no significant difference between distributed computing versus computing on a single machine on two threads.\")"
   ]
  },
  {
   "cell_type": "code",
   "execution_count": 3,
   "metadata": {
    "cell_id": "dc7e808a697c4d7489e2f4d8ac42764c",
    "deepnote_cell_type": "code",
    "deepnote_to_be_reexecuted": false,
    "execution_millis": 81,
    "execution_start": 1709218102112,
    "source_hash": "6b6831f1"
   },
   "outputs": [
    {
     "name": "stdout",
     "output_type": "stream",
     "text": [
      "Distributed Computing\n",
      "Run 1    12051\n",
      "Run 2    12135\n",
      "Run 3    12228\n",
      "Run 4    11939\n",
      "Run 5    12248\n",
      "Name: 4, dtype: int64\n",
      "Single Machine Computing\n",
      "Run 1    47645\n",
      "Run 2    47415\n",
      "Run 3    47396\n",
      "Run 4    47444\n",
      "Run 5    47147\n",
      "Name: 4, dtype: int64\n",
      "t-statistic: -3.61e+02\n",
      "p-value: 3.92e-18\n",
      "There is a significant difference between distributed computing versus computing on a single machine on four threads.\n"
     ]
    }
   ],
   "source": [
    "t_statistic, p_value = stats.ttest_ind(distributed_df.iloc[2], single_df.iloc[2])\n",
    "\n",
    "print(\"Distributed Computing\")\n",
    "print(distributed_df.iloc[2])\n",
    "\n",
    "print(\"Single Machine Computing\")\n",
    "print(single_df.iloc[2])\n",
    "\n",
    "print(\"t-statistic: \"  + '{:.2e}'.format(t_statistic))\n",
    "print(\"p-value: \" + '{:.2e}'.format(p_value))\n",
    "\n",
    "alpha = 0.05\n",
    "if p_value < alpha:\n",
    "    print(\"There is a significant difference between distributed computing versus computing on a single machine on four threads.\")\n",
    "else:\n",
    "    print(\"There is no significant difference between distributed computing versus computing on a single machine on four threads.\")"
   ]
  },
  {
   "cell_type": "code",
   "execution_count": 4,
   "metadata": {
    "cell_id": "87455a003b1041e1852090167c52bb05",
    "deepnote_cell_type": "code",
    "deepnote_to_be_reexecuted": false,
    "execution_millis": 60,
    "execution_start": 1709218102133,
    "source_hash": "d73c19a7"
   },
   "outputs": [
    {
     "name": "stdout",
     "output_type": "stream",
     "text": [
      "Distributed Computing\n",
      "Run 1    7580\n",
      "Run 2    7674\n",
      "Run 3    7684\n",
      "Run 4    7747\n",
      "Run 5    7606\n",
      "Name: 8, dtype: int64\n",
      "Single Machine Computing\n",
      "Run 1    27927\n",
      "Run 2    27847\n",
      "Run 3    27854\n",
      "Run 4    27904\n",
      "Run 5    27872\n",
      "Name: 8, dtype: int64\n",
      "t-statistic: -6.06e+02\n",
      "p-value: 6.13e-20\n",
      "There is a significant difference between distributed computing versus computing on a single machine on eight threads.\n"
     ]
    }
   ],
   "source": [
    "t_statistic, p_value = stats.ttest_ind(distributed_df.iloc[3], single_df.iloc[3])\n",
    "\n",
    "print(\"Distributed Computing\")\n",
    "print(distributed_df.iloc[3])\n",
    "\n",
    "print(\"Single Machine Computing\")\n",
    "print(single_df.iloc[3])\n",
    "\n",
    "print(\"t-statistic: \"  + '{:.2e}'.format(t_statistic))\n",
    "print(\"p-value: \" + '{:.2e}'.format(p_value))\n",
    "\n",
    "alpha = 0.05\n",
    "if p_value < alpha:\n",
    "    print(\"There is a significant difference between distributed computing versus computing on a single machine on eight threads.\")\n",
    "else:\n",
    "    print(\"There is no significant difference between distributed computing versus computing on a single machine on eight threads.\")"
   ]
  },
  {
   "cell_type": "code",
   "execution_count": 5,
   "metadata": {
    "cell_id": "7a60aa32f50b4a69a1d30e5c1e7b17f2",
    "deepnote_cell_type": "code",
    "deepnote_to_be_reexecuted": false,
    "execution_millis": 48,
    "execution_start": 1709218102145,
    "source_hash": "26a0bf75"
   },
   "outputs": [
    {
     "name": "stdout",
     "output_type": "stream",
     "text": [
      "Distributed Computing\n",
      "Run 1    6447\n",
      "Run 2    6453\n",
      "Run 3    6333\n",
      "Run 4    6432\n",
      "Run 5    6428\n",
      "Name: 16, dtype: int64\n",
      "Single Machine Computing\n",
      "Run 1    20285\n",
      "Run 2    20334\n",
      "Run 3    19740\n",
      "Run 4    20115\n",
      "Run 5    20028\n",
      "Name: 16, dtype: int64\n",
      "t-statistic: -1.27e+02\n",
      "p-value: 1.69e-14\n",
      "There is a significant difference between distributed computing versus computing on a single machine on sixteen threads.\n"
     ]
    }
   ],
   "source": [
    "t_statistic, p_value = stats.ttest_ind(distributed_df.iloc[4], single_df.iloc[4])\n",
    "\n",
    "print(\"Distributed Computing\")\n",
    "print(distributed_df.iloc[4])\n",
    "\n",
    "print(\"Single Machine Computing\")\n",
    "print(single_df.iloc[4])\n",
    "\n",
    "print(\"t-statistic: \"  + '{:.2e}'.format(t_statistic))\n",
    "print(\"p-value: \" + '{:.2e}'.format(p_value))\n",
    "\n",
    "alpha = 0.05\n",
    "if p_value < alpha:\n",
    "    print(\"There is a significant difference between distributed computing versus computing on a single machine on sixteen threads.\")\n",
    "else:\n",
    "    print(\"There is no significant difference between distributed computing versus computing on a single machine on sixteen threads.\")"
   ]
  },
  {
   "cell_type": "code",
   "execution_count": 6,
   "metadata": {
    "cell_id": "59346f5e4c9d4484961a0a2170dc8251",
    "deepnote_cell_type": "code",
    "deepnote_to_be_reexecuted": false,
    "execution_millis": 123,
    "execution_start": 1709218102150,
    "source_hash": "77ae9111"
   },
   "outputs": [
    {
     "name": "stdout",
     "output_type": "stream",
     "text": [
      "Distributed Computing\n",
      "Run 1    6205\n",
      "Run 2    6206\n",
      "Run 3    6150\n",
      "Run 4    6189\n",
      "Run 5    6253\n",
      "Name: 32, dtype: int64\n",
      "Single Machine Computing\n",
      "Run 1    18531\n",
      "Run 2    18470\n",
      "Run 3    20035\n",
      "Run 4    18454\n",
      "Run 5    20097\n",
      "Name: 32, dtype: int64\n",
      "t-statistic: -3.33e+01\n",
      "p-value: 7.23e-10\n",
      "There is a significant difference between distributed computing versus computing on a single machine on thirty-two threads.\n"
     ]
    }
   ],
   "source": [
    "t_statistic, p_value = stats.ttest_ind(distributed_df.iloc[5], single_df.iloc[5])\n",
    "\n",
    "print(\"Distributed Computing\")\n",
    "print(distributed_df.iloc[5])\n",
    "\n",
    "print(\"Single Machine Computing\")\n",
    "print(single_df.iloc[5])\n",
    "\n",
    "print(\"t-statistic: \"  + '{:.2e}'.format(t_statistic))\n",
    "print(\"p-value: \" + '{:.2e}'.format(p_value))\n",
    "\n",
    "alpha = 0.05\n",
    "if p_value < alpha:\n",
    "    print(\"There is a significant difference between distributed computing versus computing on a single machine on thirty-two threads.\")\n",
    "else:\n",
    "    print(\"There is no significant difference between distributed computing versus computing on a single machine on thiry-two threads.\")"
   ]
  },
  {
   "cell_type": "code",
   "execution_count": 7,
   "metadata": {
    "cell_id": "74878d7c21f44959bdbeca120630e419",
    "deepnote_cell_type": "code",
    "deepnote_to_be_reexecuted": false,
    "execution_millis": 84,
    "execution_start": 1709218102189,
    "source_hash": "e4c9e4f3"
   },
   "outputs": [
    {
     "name": "stdout",
     "output_type": "stream",
     "text": [
      "Distributed Computing\n",
      "Run 1    6176\n",
      "Run 2    6174\n",
      "Run 3    6182\n",
      "Run 4    6213\n",
      "Run 5    6196\n",
      "Name: 64, dtype: int64\n",
      "Single Machine Computing\n",
      "Run 1    18386\n",
      "Run 2    18498\n",
      "Run 3    18542\n",
      "Run 4    18457\n",
      "Run 5    18409\n",
      "Name: 64, dtype: int64\n",
      "t-statistic: -4.17e+02\n",
      "p-value: 1.22e-18\n",
      "There is a significant difference between distributed computing versus computing on a single machine on sixty-four threads.\n"
     ]
    }
   ],
   "source": [
    "t_statistic, p_value = stats.ttest_ind(distributed_df.iloc[6], single_df.iloc[6])\n",
    "\n",
    "print(\"Distributed Computing\")\n",
    "print(distributed_df.iloc[6])\n",
    "\n",
    "print(\"Single Machine Computing\")\n",
    "print(single_df.iloc[6])\n",
    "\n",
    "print(\"t-statistic: \"  + '{:.2e}'.format(t_statistic))\n",
    "print(\"p-value: \" + '{:.2e}'.format(p_value))\n",
    "\n",
    "alpha = 0.05\n",
    "if p_value < alpha:\n",
    "    print(\"There is a significant difference between distributed computing versus computing on a single machine on sixty-four threads.\")\n",
    "else:\n",
    "    print(\"There is no significant difference between distributed computing versus computing on a single machine on sixty-four threads.\")"
   ]
  },
  {
   "cell_type": "code",
   "execution_count": 8,
   "metadata": {
    "cell_id": "4b37dbe0adf543739c08fa550869a1d5",
    "deepnote_cell_type": "code",
    "deepnote_to_be_reexecuted": false,
    "execution_millis": 96,
    "execution_start": 1709218102219,
    "source_hash": "9d420b24"
   },
   "outputs": [
    {
     "name": "stdout",
     "output_type": "stream",
     "text": [
      "Distributed Computing\n",
      "Run 1    6134\n",
      "Run 2    6133\n",
      "Run 3    6158\n",
      "Run 4    6197\n",
      "Run 5    6172\n",
      "Name: 128, dtype: int64\n",
      "Single Machine Computing\n",
      "Run 1    18457\n",
      "Run 2    18399\n",
      "Run 3    19926\n",
      "Run 4    18451\n",
      "Run 5    18426\n",
      "Name: 128, dtype: int64\n",
      "t-statistic: -4.21e+01\n",
      "p-value: 1.13e-10\n",
      "There is a significant difference between distributed computing versus computing on a single machine on 128 threads.\n"
     ]
    }
   ],
   "source": [
    "t_statistic, p_value = stats.ttest_ind(distributed_df.iloc[7], single_df.iloc[7])\n",
    "\n",
    "print(\"Distributed Computing\")\n",
    "print(distributed_df.iloc[7])\n",
    "\n",
    "print(\"Single Machine Computing\")\n",
    "print(single_df.iloc[7])\n",
    "\n",
    "print(\"t-statistic: \"  + '{:.2e}'.format(t_statistic))\n",
    "print(\"p-value: \" + '{:.2e}'.format(p_value))\n",
    "\n",
    "alpha = 0.05\n",
    "if p_value < alpha:\n",
    "    print(\"There is a significant difference between distributed computing versus computing on a single machine on 128 threads.\")\n",
    "else:\n",
    "    print(\"There is no significant difference between distributed computing versus computing on a single machine on 128 threads.\")"
   ]
  },
  {
   "cell_type": "code",
   "execution_count": 9,
   "metadata": {
    "cell_id": "0d38084273164c9daf794a3947c35530",
    "deepnote_cell_type": "code",
    "deepnote_to_be_reexecuted": false,
    "execution_millis": 81,
    "execution_start": 1709218102235,
    "source_hash": "89a87c7e"
   },
   "outputs": [
    {
     "name": "stdout",
     "output_type": "stream",
     "text": [
      "Distributed Computing\n",
      "Run 1    6183\n",
      "Run 2    6205\n",
      "Run 3    6205\n",
      "Run 4    6195\n",
      "Run 5    6208\n",
      "Name: 256, dtype: int64\n",
      "Single Machine Computing\n",
      "Run 1    18355\n",
      "Run 2    19979\n",
      "Run 3    18406\n",
      "Run 4    18333\n",
      "Run 5    18409\n",
      "Name: 256, dtype: int64\n",
      "t-statistic: -3.89e+01\n",
      "p-value: 2.08e-10\n",
      "There is a significant difference between distributed computing versus computing on a single machine on 256 threads.\n"
     ]
    }
   ],
   "source": [
    "t_statistic, p_value = stats.ttest_ind(distributed_df.iloc[8], single_df.iloc[8])\n",
    "\n",
    "print(\"Distributed Computing\")\n",
    "print(distributed_df.iloc[8])\n",
    "\n",
    "print(\"Single Machine Computing\")\n",
    "print(single_df.iloc[8])\n",
    "\n",
    "print(\"t-statistic: \"  + '{:.2e}'.format(t_statistic))\n",
    "print(\"p-value: \" + '{:.2e}'.format(p_value))\n",
    "\n",
    "alpha = 0.05\n",
    "if p_value < alpha:\n",
    "    print(\"There is a significant difference between distributed computing versus computing on a single machine on 256 threads.\")\n",
    "else:\n",
    "    print(\"There is no significant difference between distributed computing versus computing on a single machine on 256 threads.\")"
   ]
  },
  {
   "cell_type": "code",
   "execution_count": 10,
   "metadata": {
    "cell_id": "9d62a6dfbc624fb9a2e2e50b22c99036",
    "deepnote_cell_type": "code",
    "deepnote_to_be_reexecuted": false,
    "execution_millis": 64,
    "execution_start": 1709218102252,
    "source_hash": "6156f062"
   },
   "outputs": [
    {
     "name": "stdout",
     "output_type": "stream",
     "text": [
      "Distributed Computing\n",
      "Run 1    6172\n",
      "Run 2    6274\n",
      "Run 3    6217\n",
      "Run 4    6220\n",
      "Run 5    6269\n",
      "Name: 512, dtype: int64\n",
      "Single Machine Computing\n",
      "Run 1    18397\n",
      "Run 2    18426\n",
      "Run 3    18386\n",
      "Run 4    19258\n",
      "Run 5    18352\n",
      "Name: 512, dtype: int64\n",
      "t-statistic: -7.05e+01\n",
      "p-value: 1.83e-12\n",
      "There is a significant difference between distributed computing versus computing on a single machine on 512 threads.\n"
     ]
    }
   ],
   "source": [
    "t_statistic, p_value = stats.ttest_ind(distributed_df.iloc[9], single_df.iloc[9])\n",
    "\n",
    "print(\"Distributed Computing\")\n",
    "print(distributed_df.iloc[9])\n",
    "\n",
    "print(\"Single Machine Computing\")\n",
    "print(single_df.iloc[9])\n",
    "\n",
    "print(\"t-statistic: \"  + '{:.2e}'.format(t_statistic))\n",
    "print(\"p-value: \" + '{:.2e}'.format(p_value))\n",
    "\n",
    "alpha = 0.05\n",
    "if p_value < alpha:\n",
    "    print(\"There is a significant difference between distributed computing versus computing on a single machine on 512 threads.\")\n",
    "else:\n",
    "    print(\"There is no significant difference between distributed computing versus computing on a single machine on 512 threads.\")"
   ]
  },
  {
   "cell_type": "code",
   "execution_count": 11,
   "metadata": {
    "cell_id": "f88e79dc7ad74837be81f001d5052906",
    "deepnote_cell_type": "code",
    "deepnote_to_be_reexecuted": false,
    "execution_millis": 52,
    "execution_start": 1709218102264,
    "source_hash": "e6d7d831"
   },
   "outputs": [
    {
     "name": "stdout",
     "output_type": "stream",
     "text": [
      "Distributed Computing\n",
      "Run 1    6239\n",
      "Run 2    6309\n",
      "Run 3    6270\n",
      "Run 4    6244\n",
      "Run 5    6301\n",
      "Name: 1024, dtype: int64\n",
      "Single Machine Computing\n",
      "Run 1    18528\n",
      "Run 2    18507\n",
      "Run 3    18532\n",
      "Run 4    19330\n",
      "Run 5    19567\n",
      "Name: 1024, dtype: int64\n",
      "t-statistic: -5.48e+01\n",
      "p-value: 1.37e-11\n",
      "There is a significant difference between distributed computing versus computing on a single machine on 1024 threads.\n"
     ]
    }
   ],
   "source": [
    "t_statistic, p_value = stats.ttest_ind(distributed_df.iloc[10], single_df.iloc[10])\n",
    "\n",
    "print(\"Distributed Computing\")\n",
    "print(distributed_df.iloc[10])\n",
    "\n",
    "print(\"Single Machine Computing\")\n",
    "print(single_df.iloc[10])\n",
    "\n",
    "print(\"t-statistic: \"  + '{:.2e}'.format(t_statistic))\n",
    "print(\"p-value: \" + '{:.2e}'.format(p_value))\n",
    "\n",
    "alpha = 0.05\n",
    "if p_value < alpha:\n",
    "    print(\"There is a significant difference between distributed computing versus computing on a single machine on 1024 threads.\")\n",
    "else:\n",
    "    print(\"There is no significant difference between distributed computing versus computing on a single machine on 1024 threads.\")"
   ]
  },
  {
   "cell_type": "markdown",
   "metadata": {
    "created_in_deepnote_cell": true,
    "deepnote_cell_type": "markdown"
   },
   "source": [
    "<a style='text-decoration:none;line-height:16px;display:flex;color:#5B5B62;padding:10px;justify-content:end;' href='https://deepnote.com?utm_source=created-in-deepnote-cell&projectId=69fbc7f7-1078-4e02-aad4-3a4d76594aba' target=\"_blank\">\n",
    "<img alt='Created in deepnote.com' style='display:inline;max-height:16px;margin:0px;margin-right:7.5px;' src='data:image/svg+xml;base64,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' > </img>\n",
    "Created in <span style='font-weight:600;margin-left:4px;'>Deepnote</span></a>"
   ]
  }
 ],
 "metadata": {
  "deepnote_execution_queue": [],
  "deepnote_notebook_id": "2dcc6a9c8ce6437f90cbca9316141399",
  "deepnote_persisted_session": {
   "createdAt": "2024-02-29T11:48:00.936Z"
  },
  "kernelspec": {
   "display_name": "Python 3 (ipykernel)",
   "language": "python",
   "name": "python3"
  },
  "language_info": {
   "codemirror_mode": {
    "name": "ipython",
    "version": 3
   },
   "file_extension": ".py",
   "mimetype": "text/x-python",
   "name": "python",
   "nbconvert_exporter": "python",
   "pygments_lexer": "ipython3",
   "version": "3.11.1"
  }
 },
 "nbformat": 4,
 "nbformat_minor": 4
}
